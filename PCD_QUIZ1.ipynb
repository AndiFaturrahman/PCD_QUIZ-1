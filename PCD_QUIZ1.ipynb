{
  "nbformat": 4,
  "nbformat_minor": 0,
  "metadata": {
    "colab": {
      "provenance": []
    },
    "kernelspec": {
      "name": "python3",
      "display_name": "Python 3"
    },
    "language_info": {
      "name": "python"
    }
  },
  "cells": [
    {
      "cell_type": "code",
      "execution_count": 8,
      "metadata": {
        "colab": {
          "base_uri": "https://localhost:8080/"
        },
        "id": "IlZcqxz0jJNh",
        "outputId": "a00e44c4-5a13-4cb9-9e19-bb2d3eaca580"
      },
      "outputs": [
        {
          "output_type": "execute_result",
          "data": {
            "text/plain": [
              "True"
            ]
          },
          "metadata": {},
          "execution_count": 8
        }
      ],
      "source": [
        "import cv2\n",
        "\n",
        "image = cv2.imread('/content/aang.png')\n",
        "\n",
        "gray_image = cv2.cvtColor(image, cv2.COLOR_BGR2GRAY)\n",
        "\n",
        "cv2.imwrite('gambar_grayscale.jpg', gray_image)"
      ]
    },
    {
      "cell_type": "code",
      "source": [
        "import cv2\n",
        "\n",
        "image = cv2.imread('/content/aang.png')\n",
        "\n",
        "height, width, _ = image.shape\n",
        "\n",
        "print(\"Lebar (Width):\", width)\n",
        "print(\"Tinggi (Height):\", height)"
      ],
      "metadata": {
        "colab": {
          "base_uri": "https://localhost:8080/"
        },
        "id": "vdyQjvdBkVzR",
        "outputId": "3efcdade-6131-4e6e-8d98-494d9e08ce11"
      },
      "execution_count": 9,
      "outputs": [
        {
          "output_type": "stream",
          "name": "stdout",
          "text": [
            "Lebar (Width): 700\n",
            "Tinggi (Height): 392\n"
          ]
        }
      ]
    },
    {
      "cell_type": "code",
      "source": [
        "import cv2\n",
        "\n",
        "image = cv2.imread('/content/aang.png', cv2.IMREAD_GRAYSCALE)\n",
        "\n",
        "min_val, max_val, min_loc, max_loc = cv2.minMaxLoc(image)\n",
        "\n",
        "print(\"Nilai Minimum Pixel:\", min_val)\n",
        "print(\"Nilai Maksimum Pixel:\", max_val)\n"
      ],
      "metadata": {
        "colab": {
          "base_uri": "https://localhost:8080/"
        },
        "id": "KB2-tGlZkqAj",
        "outputId": "65b8663f-06b9-415b-a8df-130f0fa0fa67"
      },
      "execution_count": 10,
      "outputs": [
        {
          "output_type": "stream",
          "name": "stdout",
          "text": [
            "Nilai Minimum Pixel: 0.0\n",
            "Nilai Maksimum Pixel: 255.0\n"
          ]
        }
      ]
    },
    {
      "cell_type": "code",
      "source": [
        "import cv2\n",
        "\n",
        "image = cv2.imread('/content/aang.png', cv2.IMREAD_GRAYSCALE)\n",
        "\n",
        "normalized_image = image / 255.0\n",
        "\n",
        "print(\"Nilai Pixel Setelah Normalisasi:\")\n",
        "print(normalized_image)"
      ],
      "metadata": {
        "colab": {
          "base_uri": "https://localhost:8080/"
        },
        "id": "mbmrh_CLnJM2",
        "outputId": "d701ad5d-826d-445e-e261-93522258962a"
      },
      "execution_count": 11,
      "outputs": [
        {
          "output_type": "stream",
          "name": "stdout",
          "text": [
            "Nilai Pixel Setelah Normalisasi:\n",
            "[[0.81960784 0.81960784 0.81960784 ... 0.83137255 0.83137255 0.83137255]\n",
            " [0.81960784 0.81960784 0.81960784 ... 0.83137255 0.83137255 0.83137255]\n",
            " [0.81960784 0.81960784 0.81960784 ... 0.83137255 0.83137255 0.83137255]\n",
            " ...\n",
            " [0.94117647 0.94117647 0.9372549  ... 0.89803922 0.89803922 0.89411765]\n",
            " [0.94117647 0.9372549  0.93333333 ... 0.89803922 0.89411765 0.89019608]\n",
            " [0.9372549  0.9372549  0.93333333 ... 0.89411765 0.89019608 0.88627451]]\n"
          ]
        }
      ]
    }
  ]
}