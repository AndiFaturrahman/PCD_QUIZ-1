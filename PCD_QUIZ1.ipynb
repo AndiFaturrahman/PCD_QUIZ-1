{
  "nbformat": 4,
  "nbformat_minor": 0,
  "metadata": {
    "colab": {
      "provenance": []
    },
    "kernelspec": {
      "name": "python3",
      "display_name": "Python 3"
    },
    "language_info": {
      "name": "python"
    }
  },
  "cells": [
    {
      "cell_type": "code",
      "execution_count": 8,
      "metadata": {
        "colab": {
          "base_uri": "https://localhost:8080/"
        },
        "id": "IlZcqxz0jJNh",
        "outputId": "a00e44c4-5a13-4cb9-9e19-bb2d3eaca580"
      },
      "outputs": [
        {
          "output_type": "execute_result",
          "data": {
            "text/plain": [
              "True"
            ]
          },
          "metadata": {},
          "execution_count": 8
        }
      ],
      "source": [
        "import cv2\n",
        "\n",
        "image = cv2.imread('/content/aang.png')\n",
        "\n",
        "gray_image = cv2.cvtColor(image, cv2.COLOR_BGR2GRAY)\n",
        "\n",
        "cv2.imwrite('gambar_grayscale.jpg', gray_image)"
      ]
    },
    {
      "cell_type": "code",
      "source": [
        "import cv2\n",
        "\n",
        "image = cv2.imread('/content/aang.png')\n",
        "\n",
        "height, width, _ = image.shape\n",
        "\n",
        "print(\"Lebar (Width):\", width)\n",
        "print(\"Tinggi (Height):\", height)"
      ],
      "metadata": {
        "colab": {
          "base_uri": "https://localhost:8080/"
        },
        "id": "vdyQjvdBkVzR",
        "outputId": "3efcdade-6131-4e6e-8d98-494d9e08ce11"
      },
      "execution_count": 9,
      "outputs": [
        {
          "output_type": "stream",
          "name": "stdout",
          "text": [
            "Lebar (Width): 700\n",
            "Tinggi (Height): 392\n"
          ]
        }
      ]
    },
    {
      "cell_type": "code",
      "source": [
        "import cv2\n",
        "\n",
        "image = cv2.imread('/content/aang.png', cv2.IMREAD_GRAYSCALE)\n",
        "\n",
        "min_val, max_val, min_loc, max_loc = cv2.minMaxLoc(image)\n",
        "\n",
        "print(\"Nilai Minimum Pixel:\", min_val)\n",
        "print(\"Nilai Maksimum Pixel:\", max_val)\n"
      ],
      "metadata": {
        "colab": {
          "base_uri": "https://localhost:8080/"
        },
        "id": "KB2-tGlZkqAj",
        "outputId": "65b8663f-06b9-415b-a8df-130f0fa0fa67"
      },
      "execution_count": 10,
      "outputs": [
        {
          "output_type": "stream",
          "name": "stdout",
          "text": [
            "Nilai Minimum Pixel: 0.0\n",
            "Nilai Maksimum Pixel: 255.0\n"
          ]
        }
      ]
    }
  ]
}