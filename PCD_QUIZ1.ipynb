{
  "nbformat": 4,
  "nbformat_minor": 0,
  "metadata": {
    "colab": {
      "provenance": []
    },
    "kernelspec": {
      "name": "python3",
      "display_name": "Python 3"
    },
    "language_info": {
      "name": "python"
    }
  },
  "cells": [
    {
      "cell_type": "code",
      "execution_count": 8,
      "metadata": {
        "colab": {
          "base_uri": "https://localhost:8080/"
        },
        "id": "IlZcqxz0jJNh",
        "outputId": "a00e44c4-5a13-4cb9-9e19-bb2d3eaca580"
      },
      "outputs": [
        {
          "output_type": "execute_result",
          "data": {
            "text/plain": [
              "True"
            ]
          },
          "metadata": {},
          "execution_count": 8
        }
      ],
      "source": [
        "import cv2\n",
        "\n",
        "image = cv2.imread('/content/aang.png')\n",
        "\n",
        "gray_image = cv2.cvtColor(image, cv2.COLOR_BGR2GRAY)\n",
        "\n",
        "cv2.imwrite('gambar_grayscale.jpg', gray_image)"
      ]
    },
    {
      "cell_type": "code",
      "source": [
        "import cv2\n",
        "\n",
        "image = cv2.imread('/content/aang.png')\n",
        "\n",
        "height, width, _ = image.shape\n",
        "\n",
        "print(\"Lebar (Width):\", width)\n",
        "print(\"Tinggi (Height):\", height)"
      ],
      "metadata": {
        "colab": {
          "base_uri": "https://localhost:8080/"
        },
        "id": "vdyQjvdBkVzR",
        "outputId": "3efcdade-6131-4e6e-8d98-494d9e08ce11"
      },
      "execution_count": 9,
      "outputs": [
        {
          "output_type": "stream",
          "name": "stdout",
          "text": [
            "Lebar (Width): 700\n",
            "Tinggi (Height): 392\n"
          ]
        }
      ]
    },
    {
      "cell_type": "code",
      "source": [
        "import cv2\n",
        "\n",
        "image = cv2.imread('/content/aang.png', cv2.IMREAD_GRAYSCALE)\n",
        "\n",
        "min_val, max_val, min_loc, max_loc = cv2.minMaxLoc(image)\n",
        "\n",
        "print(\"Nilai Minimum Pixel:\", min_val)\n",
        "print(\"Nilai Maksimum Pixel:\", max_val)\n"
      ],
      "metadata": {
        "colab": {
          "base_uri": "https://localhost:8080/"
        },
        "id": "KB2-tGlZkqAj",
        "outputId": "65b8663f-06b9-415b-a8df-130f0fa0fa67"
      },
      "execution_count": 10,
      "outputs": [
        {
          "output_type": "stream",
          "name": "stdout",
          "text": [
            "Nilai Minimum Pixel: 0.0\n",
            "Nilai Maksimum Pixel: 255.0\n"
          ]
        }
      ]
    },
    {
      "cell_type": "code",
      "source": [
        "import cv2\n",
        "\n",
        "image = cv2.imread('/content/aang.png', cv2.IMREAD_GRAYSCALE)\n",
        "\n",
        "normalized_image = image / 255.0\n",
        "\n",
        "print(\"Nilai Pixel Setelah Normalisasi:\")\n",
        "print(normalized_image)"
      ],
      "metadata": {
        "colab": {
          "base_uri": "https://localhost:8080/"
        },
        "id": "mbmrh_CLnJM2",
        "outputId": "d701ad5d-826d-445e-e261-93522258962a"
      },
      "execution_count": 11,
      "outputs": [
        {
          "output_type": "stream",
          "name": "stdout",
          "text": [
            "Nilai Pixel Setelah Normalisasi:\n",
            "[[0.81960784 0.81960784 0.81960784 ... 0.83137255 0.83137255 0.83137255]\n",
            " [0.81960784 0.81960784 0.81960784 ... 0.83137255 0.83137255 0.83137255]\n",
            " [0.81960784 0.81960784 0.81960784 ... 0.83137255 0.83137255 0.83137255]\n",
            " ...\n",
            " [0.94117647 0.94117647 0.9372549  ... 0.89803922 0.89803922 0.89411765]\n",
            " [0.94117647 0.9372549  0.93333333 ... 0.89803922 0.89411765 0.89019608]\n",
            " [0.9372549  0.9372549  0.93333333 ... 0.89411765 0.89019608 0.88627451]]\n"
          ]
        }
      ]
    },
    {
      "cell_type": "code",
      "source": [
        "import cv2\n",
        "\n",
        "image = cv2.imread('/content/aang.png')\n",
        "\n",
        "flipped_horizontal = cv2.flip(image, 1)\n",
        "\n",
        "cv2.imwrite('gambar_flip_horizontal.jpg', flipped_horizontal)\n",
        "\n",
        "flipped_vertical = cv2.flip(image, 0)\n",
        "\n",
        "cv2.imwrite('gambar_flip_vertical.jpg', flipped_vertical)\n"
      ],
      "metadata": {
        "colab": {
          "base_uri": "https://localhost:8080/"
        },
        "id": "0Cayu2Hfn2F2",
        "outputId": "1eb32d1b-2273-485b-e062-a75a9a95677a"
      },
      "execution_count": 13,
      "outputs": [
        {
          "output_type": "execute_result",
          "data": {
            "text/plain": [
              "True"
            ]
          },
          "metadata": {},
          "execution_count": 13
        }
      ]
    },
    {
      "cell_type": "code",
      "source": [
        "import cv2\n",
        "import numpy as np\n",
        "\n",
        "image = cv2.imread('/content/aang.png')\n",
        "\n",
        "mean = 0\n",
        "std_dev = 25\n",
        "gaussian_noise = np.random.normal(mean, std_dev, image.shape).astype(np.uint8)\n",
        "noisy_image_gaussian = cv2.add(image, gaussian_noise)\n",
        "\n",
        "salt_pepper_noise = np.zeros(image.shape, np.uint8)\n",
        "noise_level = 0.05\n",
        "salt_pepper_pixels = np.random.rand(*image.shape[:2])\n",
        "salt_pepper_noise[salt_pepper_pixels < noise_level / 2] = 255\n",
        "salt_pepper_noise[salt_pepper_pixels > 1 - noise_level / 2] = 0\n",
        "noisy_image_salt_pepper = cv2.add(image, salt_pepper_noise)\n",
        "\n",
        "cv2.imwrite('gambar_noise_gaussian.jpg', noisy_image_gaussian)\n",
        "cv2.imwrite('gambar_noise_salt_pepper.jpg', noisy_image_salt_pepper)"
      ],
      "metadata": {
        "colab": {
          "base_uri": "https://localhost:8080/"
        },
        "id": "f_UNM_SFoX-4",
        "outputId": "3eb4eb5e-698e-4a34-8f03-07146fa00ff7"
      },
      "execution_count": 15,
      "outputs": [
        {
          "output_type": "execute_result",
          "data": {
            "text/plain": [
              "True"
            ]
          },
          "metadata": {},
          "execution_count": 15
        }
      ]
    },
    {
      "cell_type": "code",
      "source": [
        "import cv2\n",
        "import numpy as np\n",
        "\n",
        "image = cv2.imread('/content/aang.png')\n",
        "\n",
        "random_x = np.random.randint(0, image.shape[1] - 250)\n",
        "random_y = np.random.randint(0, image.shape[0] - 250)\n",
        "random_cropped_image = image[random_y:random_y+250, random_x:random_x+250]\n",
        "\n",
        "center_x = (image.shape[1] - 250) // 2\n",
        "center_y = (image.shape[0] - 250) // 2\n",
        "center_cropped_image = image[center_y:center_y+250, center_x:center_x+250]\n",
        "\n",
        "cv2.imwrite('gambar_random_crop.jpg', random_cropped_image)\n",
        "cv2.imwrite('gambar_center_crop.jpg', center_cropped_image)\n"
      ],
      "metadata": {
        "colab": {
          "base_uri": "https://localhost:8080/"
        },
        "id": "uJHnPVaZpdxR",
        "outputId": "d50a45ef-b513-4e15-a1bb-ab97ee73c352"
      },
      "execution_count": 18,
      "outputs": [
        {
          "output_type": "execute_result",
          "data": {
            "text/plain": [
              "True"
            ]
          },
          "metadata": {},
          "execution_count": 18
        }
      ]
    }
  ]
}